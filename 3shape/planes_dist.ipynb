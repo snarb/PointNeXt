{
 "cells": [
  {
   "cell_type": "code",
   "execution_count": 1,
   "id": "415cddf7-fed5-4b48-8dbe-352b49340b2f",
   "metadata": {
    "tags": []
   },
   "outputs": [],
   "source": [
    "import numpy as np\n",
    "import os\n",
    "import trimesh\n",
    "import glob\n",
    "import random\n",
    "import seaborn as sns\n",
    "import json\n",
    "from pathlib import Path\n",
    "import io\n",
    "from PIL import Image\n",
    "# Best model avg angle 8.11°\n",
    "\n",
    "def get_plane(fname):\n",
    "    crimefile = open(r\"C:\\temp\\planes\\{}.txt\".format(fname), 'r')\n",
    "    line = crimefile.readlines()[0].replace('\\n', '')\n",
    "    data = np.array(line.split(',')).astype(float).reshape(2, 3)\n",
    "    normals = data[0, :]\n",
    "    origin = data[1, :]\n",
    "    return origin, normals\n",
    "\n",
    "def show_mesh_and_pale(fname):\n",
    "    mesh_o = trimesh.load_mesh(r\"C:\\temp\\Segmented\\{}.ply\".format(fname))\n",
    "    origin, normals = get_plane(fname)\n",
    "    scene = trimesh.Scene([mesh_o, trimesh.path.creation.grid(side=20,\n",
    "                                                  plane_origin = origin,\n",
    "                                                  plane_normal = normals)])\n",
    "    return scene\n",
    "\n",
    "def get_cannal(fname):\n",
    "    mesh_o = trimesh.load_mesh(r\"C:\\temp\\canals\\{}.ply\".format(fname))\n",
    "    return mesh_o\n",
    "\n",
    "def unit_vector(vector):\n",
    "    \"\"\" Returns the unit vector of the vector.  \"\"\"\n",
    "    return vector / np.linalg.norm(vector)\n",
    "\n",
    "def angle_between(v1, v2):\n",
    "    \"\"\" Returns the angle in radians between vectors 'v1' and 'v2'::\n",
    "\n",
    "            >>> angle_between((1, 0, 0), (0, 1, 0))\n",
    "            1.5707963267948966\n",
    "            >>> angle_between((1, 0, 0), (1, 0, 0))\n",
    "            0.0\n",
    "            >>> angle_between((1, 0, 0), (-1, 0, 0))\n",
    "            3.141592653589793\n",
    "    \"\"\"\n",
    "    v1_u = unit_vector(v1)\n",
    "    v2_u = unit_vector(v2)\n",
    "    return np.arccos(np.clip(np.dot(v1_u, v2_u), -1.0, 1.0))\n",
    "\n",
    "def get_fnames(pathList):\n",
    "    res = []\n",
    "    for fpath in pathList:\n",
    "        fname = Path(fpath).stem\n",
    "        res.append(fname)\n",
    "    return res\n"
   ]
  },
  {
   "cell_type": "code",
   "execution_count": 2,
   "id": "a1d56f30-7eab-49a8-9ba2-1f004ab05c37",
   "metadata": {
    "tags": []
   },
   "outputs": [],
   "source": [
    "files_to_process = glob.glob(r\"C:\\temp\\render\\*.jpg\")"
   ]
  },
  {
   "cell_type": "code",
   "execution_count": 10,
   "id": "35f37282",
   "metadata": {},
   "outputs": [],
   "source": [
    "# Create dataset\n",
    "import shutil\n",
    "VAL_PROB = 0.15\n",
    "\n",
    "DS_DIR = r'C:\\datasets\\plane_regression'\n",
    "for cp in files_to_process:\n",
    "    fname = os.path.splitext(os.path.basename(cp))[0]\n",
    "\n",
    "    meshSrc = r\"C:\\temp\\Segmented\\{}.ply\".format(fname)\n",
    "    planeSrc = r\"C:\\temp\\planes\\{}.txt\".format(fname)\n",
    "    if os.path.exists(planeSrc):\n",
    "        if random.random() < VAL_PROB:\n",
    "            targDir = os.path.join(DS_DIR, 'val')\n",
    "        else:\n",
    "            targDir = os.path.join(DS_DIR, 'train')\n",
    "\n",
    "        planePath =  os.path.join(targDir, 'planes', fname + '.txt')\n",
    "        meshPath =  os.path.join(targDir, 'meshes', fname + '.ply')\n",
    "        os.makedirs(os.path.dirname(planePath), exist_ok=True)\n",
    "        os.makedirs(os.path.dirname(meshPath), exist_ok=True)\n",
    "\n",
    "        shutil.copy2(planeSrc, planePath)\n",
    "        shutil.copy2(meshSrc, meshPath)\n"
   ]
  },
  {
   "cell_type": "code",
   "execution_count": 4,
   "id": "1c83709b",
   "metadata": {},
   "outputs": [],
   "source": [
    "maxs = []\n",
    "mins = []\n",
    "\n",
    "for cp in files_to_process:\n",
    "    fname = os.path.splitext(os.path.basename(cp))[0]\n",
    "\n",
    "    if os.path.exists(r\"C:\\temp\\Segmented\\{}.ply\".format(fname)):\n",
    "        mesh = trimesh.load_mesh(r\"C:\\temp\\Segmented\\{}.ply\".format(fname))\n",
    "        point_cloud = np.array(mesh.vertices)\n",
    "\n",
    "        point_cloud = point_cloud.astype(np.float16)\n",
    "        maxs.append(point_cloud.max(axis = 0))\n",
    "        mins.append(point_cloud.min(axis = 0))\n",
    "\n"
   ]
  },
  {
   "cell_type": "code",
   "execution_count": null,
   "id": "30b35bea",
   "metadata": {},
   "outputs": [],
   "source": [
    "point_cloud"
   ]
  },
  {
   "cell_type": "code",
   "execution_count": 11,
   "id": "e898e992",
   "metadata": {},
   "outputs": [
    {
     "data": {
      "text/plain": [
       "array([-1.977, -1.762, -1.894, ...,  9.87 , 10.22 ,  9.695], dtype=float16)"
      ]
     },
     "execution_count": 11,
     "metadata": {},
     "output_type": "execute_result"
    }
   ],
   "source": [
    "point_cloud.max(axis = 1)\n"
   ]
  },
  {
   "cell_type": "code",
   "execution_count": 6,
   "id": "dd91ba57",
   "metadata": {},
   "outputs": [
    {
     "data": {
      "image/png": "[encoded data removed]",
      "text/plain": [
       "<Figure size 432x288 with 1 Axes>"
      ]
     },
     "metadata": {
      "needs_background": "light"
     },
     "output_type": "display_data"
    }
   ],
   "source": [
    "import seaborn as sns\n",
    "import matplotlib.pyplot as plt\n",
    "\n",
    "# Convert the shapes list to a numpy array\n",
    "shapes_array = np.array(shapes)[0]\n",
    "\n",
    "# Plot the distributions of shapes\n",
    "sns.histplot(data=shapes_array, bins='auto', kde=True)\n",
    "\n",
    "# Set labels and title\n",
    "plt.xlabel('Number of Points')\n",
    "plt.ylabel('Frequency')\n",
    "plt.title('Distribution of Shapes')\n",
    "\n",
    "# Display the plot\n",
    "plt.show()\n"
   ]
  },
  {
   "cell_type": "code",
   "execution_count": 5,
   "id": "8b672746-2d2f-4c11-bff6-cc1593ffc096",
   "metadata": {
    "tags": []
   },
   "outputs": [
    {
     "ename": "KeyboardInterrupt",
     "evalue": "",
     "output_type": "error",
     "traceback": [
      "\u001B[1;31m---------------------------------------------------------------------------\u001B[0m",
      "\u001B[1;31mKeyboardInterrupt\u001B[0m                         Traceback (most recent call last)",
      "\u001B[1;32m~\\AppData\\Local\\Temp\\ipykernel_41976\\3986401428.py\u001B[0m in \u001B[0;36m<module>\u001B[1;34m\u001B[0m\n\u001B[0;32m      4\u001B[0m \u001B[1;32mfor\u001B[0m \u001B[0mcp\u001B[0m \u001B[1;32min\u001B[0m \u001B[0mfiles_to_process\u001B[0m\u001B[1;33m:\u001B[0m\u001B[1;33m\u001B[0m\u001B[1;33m\u001B[0m\u001B[0m\n\u001B[0;32m      5\u001B[0m     \u001B[0mfname\u001B[0m \u001B[1;33m=\u001B[0m \u001B[0mos\u001B[0m\u001B[1;33m.\u001B[0m\u001B[0mpath\u001B[0m\u001B[1;33m.\u001B[0m\u001B[0msplitext\u001B[0m\u001B[1;33m(\u001B[0m\u001B[0mos\u001B[0m\u001B[1;33m.\u001B[0m\u001B[0mpath\u001B[0m\u001B[1;33m.\u001B[0m\u001B[0mbasename\u001B[0m\u001B[1;33m(\u001B[0m\u001B[0mcp\u001B[0m\u001B[1;33m)\u001B[0m\u001B[1;33m)\u001B[0m\u001B[1;33m[\u001B[0m\u001B[1;36m0\u001B[0m\u001B[1;33m]\u001B[0m\u001B[1;33m\u001B[0m\u001B[1;33m\u001B[0m\u001B[0m\n\u001B[1;32m----> 6\u001B[1;33m     \u001B[1;32mif\u001B[0m \u001B[1;32mnot\u001B[0m \u001B[0mos\u001B[0m\u001B[1;33m.\u001B[0m\u001B[0mpath\u001B[0m\u001B[1;33m.\u001B[0m\u001B[0mexists\u001B[0m\u001B[1;33m(\u001B[0m\u001B[1;34mr\"C:\\temp\\planes\\{}.txt\"\u001B[0m\u001B[1;33m.\u001B[0m\u001B[0mformat\u001B[0m\u001B[1;33m(\u001B[0m\u001B[0mfname\u001B[0m\u001B[1;33m)\u001B[0m\u001B[1;33m)\u001B[0m\u001B[1;33m:\u001B[0m\u001B[1;33m\u001B[0m\u001B[1;33m\u001B[0m\u001B[0m\n\u001B[0m\u001B[0;32m      7\u001B[0m         \u001B[0mg\u001B[0m \u001B[1;33m=\u001B[0m \u001B[1;36m2\u001B[0m\u001B[1;31m#print(f\"{fname} does not exists\")\u001B[0m\u001B[1;33m\u001B[0m\u001B[1;33m\u001B[0m\u001B[0m\n\u001B[0;32m      8\u001B[0m     \u001B[1;32melse\u001B[0m\u001B[1;33m:\u001B[0m\u001B[1;33m\u001B[0m\u001B[1;33m\u001B[0m\u001B[0m\n",
      "\u001B[1;32m~\\AppData\\Local\\Temp\\ipykernel_41976\\3986401428.py\u001B[0m in \u001B[0;36m<module>\u001B[1;34m\u001B[0m\n\u001B[0;32m      4\u001B[0m \u001B[1;32mfor\u001B[0m \u001B[0mcp\u001B[0m \u001B[1;32min\u001B[0m \u001B[0mfiles_to_process\u001B[0m\u001B[1;33m:\u001B[0m\u001B[1;33m\u001B[0m\u001B[1;33m\u001B[0m\u001B[0m\n\u001B[0;32m      5\u001B[0m     \u001B[0mfname\u001B[0m \u001B[1;33m=\u001B[0m \u001B[0mos\u001B[0m\u001B[1;33m.\u001B[0m\u001B[0mpath\u001B[0m\u001B[1;33m.\u001B[0m\u001B[0msplitext\u001B[0m\u001B[1;33m(\u001B[0m\u001B[0mos\u001B[0m\u001B[1;33m.\u001B[0m\u001B[0mpath\u001B[0m\u001B[1;33m.\u001B[0m\u001B[0mbasename\u001B[0m\u001B[1;33m(\u001B[0m\u001B[0mcp\u001B[0m\u001B[1;33m)\u001B[0m\u001B[1;33m)\u001B[0m\u001B[1;33m[\u001B[0m\u001B[1;36m0\u001B[0m\u001B[1;33m]\u001B[0m\u001B[1;33m\u001B[0m\u001B[1;33m\u001B[0m\u001B[0m\n\u001B[1;32m----> 6\u001B[1;33m     \u001B[1;32mif\u001B[0m \u001B[1;32mnot\u001B[0m \u001B[0mos\u001B[0m\u001B[1;33m.\u001B[0m\u001B[0mpath\u001B[0m\u001B[1;33m.\u001B[0m\u001B[0mexists\u001B[0m\u001B[1;33m(\u001B[0m\u001B[1;34mr\"C:\\temp\\planes\\{}.txt\"\u001B[0m\u001B[1;33m.\u001B[0m\u001B[0mformat\u001B[0m\u001B[1;33m(\u001B[0m\u001B[0mfname\u001B[0m\u001B[1;33m)\u001B[0m\u001B[1;33m)\u001B[0m\u001B[1;33m:\u001B[0m\u001B[1;33m\u001B[0m\u001B[1;33m\u001B[0m\u001B[0m\n\u001B[0m\u001B[0;32m      7\u001B[0m         \u001B[0mg\u001B[0m \u001B[1;33m=\u001B[0m \u001B[1;36m2\u001B[0m\u001B[1;31m#print(f\"{fname} does not exists\")\u001B[0m\u001B[1;33m\u001B[0m\u001B[1;33m\u001B[0m\u001B[0m\n\u001B[0;32m      8\u001B[0m     \u001B[1;32melse\u001B[0m\u001B[1;33m:\u001B[0m\u001B[1;33m\u001B[0m\u001B[1;33m\u001B[0m\u001B[0m\n",
      "\u001B[1;32m_pydevd_bundle\\pydevd_cython_win32_37_64.pyx\u001B[0m in \u001B[0;36m_pydevd_bundle.pydevd_cython_win32_37_64.SafeCallWrapper.__call__\u001B[1;34m()\u001B[0m\n",
      "\u001B[1;32m_pydevd_bundle\\pydevd_cython_win32_37_64.pyx\u001B[0m in \u001B[0;36m_pydevd_bundle.pydevd_cython_win32_37_64.PyDBFrame.trace_dispatch\u001B[1;34m()\u001B[0m\n",
      "\u001B[1;32m_pydevd_bundle\\pydevd_cython_win32_37_64.pyx\u001B[0m in \u001B[0;36m_pydevd_bundle.pydevd_cython_win32_37_64.PyDBFrame.trace_dispatch\u001B[1;34m()\u001B[0m\n",
      "\u001B[1;32m_pydevd_bundle\\pydevd_cython_win32_37_64.pyx\u001B[0m in \u001B[0;36m_pydevd_bundle.pydevd_cython_win32_37_64.PyDBFrame.trace_dispatch\u001B[1;34m()\u001B[0m\n",
      "\u001B[1;32m_pydevd_bundle\\pydevd_cython_win32_37_64.pyx\u001B[0m in \u001B[0;36m_pydevd_bundle.pydevd_cython_win32_37_64.PyDBFrame.do_wait_suspend\u001B[1;34m()\u001B[0m\n",
      "\u001B[1;32mC:\\Program Files\\JetBrains\\PyCharm 2022.3.1\\plugins\\python\\helpers\\pydev\\pydevd.py\u001B[0m in \u001B[0;36mdo_wait_suspend\u001B[1;34m(self, thread, frame, event, arg, send_suspend_message, is_unhandled_exception)\u001B[0m\n\u001B[0;32m   1158\u001B[0m \u001B[1;33m\u001B[0m\u001B[0m\n\u001B[0;32m   1159\u001B[0m         \u001B[1;32mwith\u001B[0m \u001B[0mself\u001B[0m\u001B[1;33m.\u001B[0m\u001B[0m_threads_suspended_single_notification\u001B[0m\u001B[1;33m.\u001B[0m\u001B[0mnotify_thread_suspended\u001B[0m\u001B[1;33m(\u001B[0m\u001B[0mthread_id\u001B[0m\u001B[1;33m,\u001B[0m \u001B[0mstop_reason\u001B[0m\u001B[1;33m)\u001B[0m\u001B[1;33m:\u001B[0m\u001B[1;33m\u001B[0m\u001B[1;33m\u001B[0m\u001B[0m\n\u001B[1;32m-> 1160\u001B[1;33m             \u001B[0mself\u001B[0m\u001B[1;33m.\u001B[0m\u001B[0m_do_wait_suspend\u001B[0m\u001B[1;33m(\u001B[0m\u001B[0mthread\u001B[0m\u001B[1;33m,\u001B[0m \u001B[0mframe\u001B[0m\u001B[1;33m,\u001B[0m \u001B[0mevent\u001B[0m\u001B[1;33m,\u001B[0m \u001B[0marg\u001B[0m\u001B[1;33m,\u001B[0m \u001B[0msuspend_type\u001B[0m\u001B[1;33m,\u001B[0m \u001B[0mfrom_this_thread\u001B[0m\u001B[1;33m)\u001B[0m\u001B[1;33m\u001B[0m\u001B[1;33m\u001B[0m\u001B[0m\n\u001B[0m\u001B[0;32m   1161\u001B[0m \u001B[1;33m\u001B[0m\u001B[0m\n\u001B[0;32m   1162\u001B[0m     \u001B[1;32mdef\u001B[0m \u001B[0m_do_wait_suspend\u001B[0m\u001B[1;33m(\u001B[0m\u001B[0mself\u001B[0m\u001B[1;33m,\u001B[0m \u001B[0mthread\u001B[0m\u001B[1;33m,\u001B[0m \u001B[0mframe\u001B[0m\u001B[1;33m,\u001B[0m \u001B[0mevent\u001B[0m\u001B[1;33m,\u001B[0m \u001B[0marg\u001B[0m\u001B[1;33m,\u001B[0m \u001B[0msuspend_type\u001B[0m\u001B[1;33m,\u001B[0m \u001B[0mfrom_this_thread\u001B[0m\u001B[1;33m)\u001B[0m\u001B[1;33m:\u001B[0m\u001B[1;33m\u001B[0m\u001B[1;33m\u001B[0m\u001B[0m\n",
      "\u001B[1;32mC:\\Program Files\\JetBrains\\PyCharm 2022.3.1\\plugins\\python\\helpers\\pydev\\pydevd.py\u001B[0m in \u001B[0;36m_do_wait_suspend\u001B[1;34m(self, thread, frame, event, arg, suspend_type, from_this_thread)\u001B[0m\n\u001B[0;32m   1173\u001B[0m \u001B[1;33m\u001B[0m\u001B[0m\n\u001B[0;32m   1174\u001B[0m                 \u001B[0mself\u001B[0m\u001B[1;33m.\u001B[0m\u001B[0mprocess_internal_commands\u001B[0m\u001B[1;33m(\u001B[0m\u001B[1;33m)\u001B[0m\u001B[1;33m\u001B[0m\u001B[1;33m\u001B[0m\u001B[0m\n\u001B[1;32m-> 1175\u001B[1;33m                 \u001B[0mtime\u001B[0m\u001B[1;33m.\u001B[0m\u001B[0msleep\u001B[0m\u001B[1;33m(\u001B[0m\u001B[1;36m0.01\u001B[0m\u001B[1;33m)\u001B[0m\u001B[1;33m\u001B[0m\u001B[1;33m\u001B[0m\u001B[0m\n\u001B[0m\u001B[0;32m   1176\u001B[0m \u001B[1;33m\u001B[0m\u001B[0m\n\u001B[0;32m   1177\u001B[0m         \u001B[0mself\u001B[0m\u001B[1;33m.\u001B[0m\u001B[0mcancel_async_evaluation\u001B[0m\u001B[1;33m(\u001B[0m\u001B[0mget_current_thread_id\u001B[0m\u001B[1;33m(\u001B[0m\u001B[0mthread\u001B[0m\u001B[1;33m)\u001B[0m\u001B[1;33m,\u001B[0m \u001B[0mstr\u001B[0m\u001B[1;33m(\u001B[0m\u001B[0mid\u001B[0m\u001B[1;33m(\u001B[0m\u001B[0mframe\u001B[0m\u001B[1;33m)\u001B[0m\u001B[1;33m)\u001B[0m\u001B[1;33m)\u001B[0m\u001B[1;33m\u001B[0m\u001B[1;33m\u001B[0m\u001B[0m\n",
      "\u001B[1;31mKeyboardInterrupt\u001B[0m: "
     ]
    }
   ],
   "source": [
    "origins = []\n",
    "normals = []\n",
    "\n",
    "for cp in files_to_process:\n",
    "    fname = os.path.splitext(os.path.basename(cp))[0]\n",
    "\n",
    "    if not os.path.exists(r\"C:\\temp\\planes\\{}.txt\".format(fname)):\n",
    "        g = 2#print(f\"{fname} does not exists\")\n",
    "    else:\n",
    "        origin, normal = get_plane(fname)\n",
    "        origins.append(origin)\n",
    "        normals.append(normal)\n"
   ]
  },
  {
   "cell_type": "code",
   "execution_count": 56,
   "id": "ecfd7d2e-8896-4e55-a984-91facae0bf98",
   "metadata": {
    "tags": []
   },
   "outputs": [
    {
     "data": {
      "text/plain": [
       "3002"
      ]
     },
     "execution_count": 56,
     "metadata": {},
     "output_type": "execute_result"
    }
   ],
   "source": [
    "len(normals)"
   ]
  },
  {
   "cell_type": "code",
   "execution_count": 48,
   "id": "8b83884c-1bfd-4861-afa1-6f1fe5902cd6",
   "metadata": {
    "tags": []
   },
   "outputs": [],
   "source": [
    "mean_normal = np.mean(normals, axis=0)\n",
    "mean_orig = np.mean(origins, axis=0)"
   ]
  },
  {
   "cell_type": "code",
   "execution_count": 36,
   "id": "ee03341f-9d54-433a-8f3e-6ae7d7385830",
   "metadata": {
    "tags": []
   },
   "outputs": [
    {
     "data": {
      "text/plain": [
       "array([-0.34115871,  0.84640487,  0.17356184])"
      ]
     },
     "execution_count": 36,
     "metadata": {},
     "output_type": "execute_result"
    }
   ],
   "source": [
    "mean_normal"
   ]
  },
  {
   "cell_type": "code",
   "execution_count": 12,
   "id": "08826bdb-0f6f-47f3-9422-a6f895ca0f4d",
   "metadata": {
    "tags": []
   },
   "outputs": [
    {
     "data": {
      "text/plain": [
       "array([-1.9013895 , 12.77964562, -4.90804974])"
      ]
     },
     "execution_count": 12,
     "metadata": {},
     "output_type": "execute_result"
    }
   ],
   "source": [
    "mean_orig"
   ]
  },
  {
   "cell_type": "code",
   "execution_count": 9,
   "id": "5b94a985-a4f9-496e-85a2-0beea8023bb4",
   "metadata": {
    "tags": []
   },
   "outputs": [],
   "source": [
    "angls = []\n",
    "for normal in normals:\n",
    "    ang = angle_between(mean_normal, normal)\n",
    "    angls.append(ang)\n"
   ]
  },
  {
   "cell_type": "code",
   "execution_count": 16,
   "id": "82f062d1-4647-477e-960e-7810ac4627ee",
   "metadata": {
    "tags": []
   },
   "outputs": [
    {
     "data": {
      "text/plain": [
       "18.595733321750675"
      ]
     },
     "execution_count": 16,
     "metadata": {},
     "output_type": "execute_result"
    }
   ],
   "source": [
    "np.degrees(np.mean(angls))"
   ]
  },
  {
   "cell_type": "code",
   "execution_count": null,
   "id": "4e9b794f-a70f-46de-8b03-7938a8f65e3d",
   "metadata": {},
   "outputs": [],
   "source": [
    ".face_normals"
   ]
  },
  {
   "cell_type": "code",
   "execution_count": 63,
   "id": "e44f8e89-7097-47d4-aeaa-c9dd14ba20b1",
   "metadata": {
    "tags": []
   },
   "outputs": [],
   "source": [
    "faceNormals = []\n",
    "for cp in files_to_process:\n",
    "    fname = os.path.splitext(os.path.basename(cp))[0]\n",
    "    if os.path.exists(r\"C:\\temp\\planes\\{}.txt\".format(fname)):\n",
    "        curNormals = get_cannal(fname).face_normals\n",
    "        sampleInd = np.random.randint(curNormals.shape[0], size = 500)\n",
    "        curNormals = curNormals[sampleInd]\n",
    "        faceNormals.append(curNormals)"
   ]
  },
  {
   "cell_type": "code",
   "execution_count": 61,
   "id": "733e83e6-fbae-41ae-8cef-6a06b47cc60e",
   "metadata": {
    "tags": []
   },
   "outputs": [
    {
     "data": {
      "text/plain": [
       "3"
      ]
     },
     "execution_count": 61,
     "metadata": {},
     "output_type": "execute_result"
    }
   ],
   "source": [
    "len(faceNormals)"
   ]
  },
  {
   "cell_type": "code",
   "execution_count": 64,
   "id": "44217e84-f8ea-4985-80d7-b553ef680840",
   "metadata": {
    "tags": []
   },
   "outputs": [],
   "source": [
    "X = np.stack(faceNormals)\n",
    "y = np.stack(normals)"
   ]
  },
  {
   "cell_type": "code",
   "execution_count": 96,
   "id": "1db8a78d-8645-4962-9d0b-724bc0a16f14",
   "metadata": {
    "tags": []
   },
   "outputs": [
    {
     "ename": "AttributeError",
     "evalue": "'list' object has no attribute 'shape'",
     "output_type": "error",
     "traceback": [
      "\u001B[1;31m---------------------------------------------------------------------------\u001B[0m",
      "\u001B[1;31mAttributeError\u001B[0m                            Traceback (most recent call last)",
      "\u001B[1;32m~\\AppData\\Local\\Temp\\ipykernel_40848\\98734614.py\u001B[0m in \u001B[0;36m<module>\u001B[1;34m\u001B[0m\n\u001B[1;32m----> 1\u001B[1;33m \u001B[0mfaceNormals\u001B[0m\u001B[1;33m.\u001B[0m\u001B[0mshape\u001B[0m\u001B[1;33m\u001B[0m\u001B[1;33m\u001B[0m\u001B[0m\n\u001B[0m",
      "\u001B[1;31mAttributeError\u001B[0m: 'list' object has no attribute 'shape'"
     ]
    }
   ],
   "source": [
    "faceNormals.shape"
   ]
  },
  {
   "cell_type": "code",
   "execution_count": 70,
   "id": "937c35b1-ca77-43ee-881e-a1b5c92d3589",
   "metadata": {
    "tags": []
   },
   "outputs": [],
   "source": [
    "from sklearn.multioutput import MultiOutputRegressor\n",
    "from sklearn.model_selection import train_test_split\n",
    "from sklearn.metrics import mean_absolute_error\n",
    "# Split the data into training and testing sets\n",
    "# Split the data into training and testing sets\n",
    "X_train, X_test, y_train, y_test = train_test_split(X.reshape(X.shape[0], -1), y, test_size=0.2, random_state=42)\n",
    "\n",
    "# Create a RandomForestRegressor instance wrapped by a MultiOutputRegressor\n",
    "rf_regressor = RandomForestRegressor(n_estimators=100, random_state=42)\n",
    "multi_output_rf_regressor = MultiOutputRegressor(rf_regressor)\n",
    "\n",
    "# Fit the model to the training data\n",
    "multi_output_rf_regressor.fit(X_train, y_train)\n",
    "\n",
    "# Predict target values for the testing data\n",
    "y_pred = multi_output_rf_regressor.predict(X_test)\n",
    "# Evaluate the performance of the model\n",
    "mae = mean_absolute_error(y_test, y_pred)"
   ]
  },
  {
   "cell_type": "code",
   "execution_count": 71,
   "id": "5aab64f3-0346-4253-9ce5-d6d59319da70",
   "metadata": {
    "tags": []
   },
   "outputs": [
    {
     "data": {
      "text/plain": [
       "0.13538451116223207"
      ]
     },
     "execution_count": 71,
     "metadata": {},
     "output_type": "execute_result"
    }
   ],
   "source": [
    "mae"
   ]
  },
  {
   "cell_type": "code",
   "execution_count": 66,
   "id": "1c181343-367c-426e-a4ae-d620d08afcda",
   "metadata": {
    "tags": []
   },
   "outputs": [
    {
     "data": {
      "text/plain": [
       "(3002, 3)"
      ]
     },
     "execution_count": 66,
     "metadata": {},
     "output_type": "execute_result"
    }
   ],
   "source": [
    "y.shape"
   ]
  },
  {
   "cell_type": "code",
   "execution_count": 67,
   "id": "786c9752-e772-4ce2-b6ab-7d96f6649dc4",
   "metadata": {
    "tags": []
   },
   "outputs": [
    {
     "data": {
      "text/plain": [
       "(3002, 500, 3)"
      ]
     },
     "execution_count": 67,
     "metadata": {},
     "output_type": "execute_result"
    }
   ],
   "source": [
    "X.shape"
   ]
  },
  {
   "cell_type": "code",
   "execution_count": 74,
   "id": "045d4dcb-b2ef-41f0-bbee-44b83cf3c4f1",
   "metadata": {
    "tags": []
   },
   "outputs": [],
   "source": [
    "import xgboost as xgb\n",
    "# 15 degdee xg boost"
   ]
  },
  {
   "cell_type": "code",
   "execution_count": 91,
   "id": "5a6c78bd-4ef7-4476-9f54-03d675e4187c",
   "metadata": {
    "tags": []
   },
   "outputs": [
    {
     "name": "stdout",
     "output_type": "stream",
     "text": [
      "[0]\ttrain-rmse:0.55654\tvalidation-rmse:0.56235\n",
      "[1]\ttrain-rmse:0.51765\tvalidation-rmse:0.52448\n",
      "[2]\ttrain-rmse:0.48032\tvalidation-rmse:0.48854\n",
      "[3]\ttrain-rmse:0.44476\tvalidation-rmse:0.45383\n",
      "[4]\ttrain-rmse:0.41141\tvalidation-rmse:0.42187\n",
      "[5]\ttrain-rmse:0.38047\tvalidation-rmse:0.39205\n",
      "[6]\ttrain-rmse:0.35181\tvalidation-rmse:0.36536\n",
      "[7]\ttrain-rmse:0.32576\tvalidation-rmse:0.34157\n",
      "[8]\ttrain-rmse:0.30183\tvalidation-rmse:0.31991\n",
      "[9]\ttrain-rmse:0.28063\tvalidation-rmse:0.30122\n",
      "[10]\ttrain-rmse:0.26186\tvalidation-rmse:0.28475\n",
      "[11]\ttrain-rmse:0.24493\tvalidation-rmse:0.27033\n",
      "[12]\ttrain-rmse:0.22977\tvalidation-rmse:0.25774\n",
      "[13]\ttrain-rmse:0.21584\tvalidation-rmse:0.24716\n",
      "[14]\ttrain-rmse:0.20400\tvalidation-rmse:0.23818\n",
      "[15]\ttrain-rmse:0.19391\tvalidation-rmse:0.23041\n",
      "[16]\ttrain-rmse:0.18474\tvalidation-rmse:0.22408\n",
      "[17]\ttrain-rmse:0.17695\tvalidation-rmse:0.21880\n",
      "[18]\ttrain-rmse:0.16976\tvalidation-rmse:0.21419\n",
      "[19]\ttrain-rmse:0.16400\tvalidation-rmse:0.21054\n",
      "[20]\ttrain-rmse:0.15835\tvalidation-rmse:0.20750\n",
      "[21]\ttrain-rmse:0.15382\tvalidation-rmse:0.20516\n",
      "[22]\ttrain-rmse:0.14931\tvalidation-rmse:0.20339\n",
      "[23]\ttrain-rmse:0.14537\tvalidation-rmse:0.20190\n",
      "[24]\ttrain-rmse:0.14240\tvalidation-rmse:0.20063\n",
      "[25]\ttrain-rmse:0.13944\tvalidation-rmse:0.19965\n",
      "[26]\ttrain-rmse:0.13735\tvalidation-rmse:0.19922\n",
      "[27]\ttrain-rmse:0.13528\tvalidation-rmse:0.19843\n",
      "[28]\ttrain-rmse:0.13290\tvalidation-rmse:0.19817\n",
      "[29]\ttrain-rmse:0.13116\tvalidation-rmse:0.19802\n",
      "[30]\ttrain-rmse:0.12946\tvalidation-rmse:0.19798\n",
      "[31]\ttrain-rmse:0.12826\tvalidation-rmse:0.19774\n",
      "[32]\ttrain-rmse:0.12697\tvalidation-rmse:0.19778\n",
      "[33]\ttrain-rmse:0.12550\tvalidation-rmse:0.19792\n",
      "[34]\ttrain-rmse:0.12441\tvalidation-rmse:0.19789\n",
      "[35]\ttrain-rmse:0.12328\tvalidation-rmse:0.19797\n",
      "[36]\ttrain-rmse:0.12243\tvalidation-rmse:0.19794\n",
      "[37]\ttrain-rmse:0.12174\tvalidation-rmse:0.19818\n",
      "[38]\ttrain-rmse:0.12119\tvalidation-rmse:0.19876\n",
      "[39]\ttrain-rmse:0.12054\tvalidation-rmse:0.19902\n",
      "[40]\ttrain-rmse:0.12003\tvalidation-rmse:0.19934\n",
      "[41]\ttrain-rmse:0.11994\tvalidation-rmse:0.19970\n",
      "[42]\ttrain-rmse:0.11981\tvalidation-rmse:0.20008\n",
      "[43]\ttrain-rmse:0.11925\tvalidation-rmse:0.20057\n",
      "[44]\ttrain-rmse:0.11918\tvalidation-rmse:0.20092\n",
      "[45]\ttrain-rmse:0.11904\tvalidation-rmse:0.20130\n",
      "[46]\ttrain-rmse:0.11878\tvalidation-rmse:0.20168\n",
      "[47]\ttrain-rmse:0.11894\tvalidation-rmse:0.20213\n",
      "[48]\ttrain-rmse:0.11900\tvalidation-rmse:0.20243\n",
      "[49]\ttrain-rmse:0.11925\tvalidation-rmse:0.20268\n",
      "[50]\ttrain-rmse:0.11930\tvalidation-rmse:0.20321\n",
      "[51]\ttrain-rmse:0.11961\tvalidation-rmse:0.20362\n",
      "[52]\ttrain-rmse:0.11970\tvalidation-rmse:0.20408\n",
      "[53]\ttrain-rmse:0.11972\tvalidation-rmse:0.20452\n",
      "[54]\ttrain-rmse:0.11984\tvalidation-rmse:0.20482\n",
      "[55]\ttrain-rmse:0.11988\tvalidation-rmse:0.20528\n",
      "[56]\ttrain-rmse:0.12019\tvalidation-rmse:0.20569\n",
      "[57]\ttrain-rmse:0.12019\tvalidation-rmse:0.20607\n",
      "[58]\ttrain-rmse:0.12039\tvalidation-rmse:0.20652\n",
      "[59]\ttrain-rmse:0.12070\tvalidation-rmse:0.20689\n",
      "[60]\ttrain-rmse:0.12103\tvalidation-rmse:0.20727\n",
      "[61]\ttrain-rmse:0.12142\tvalidation-rmse:0.20764\n",
      "[62]\ttrain-rmse:0.12165\tvalidation-rmse:0.20802\n",
      "[63]\ttrain-rmse:0.12192\tvalidation-rmse:0.20829\n",
      "[64]\ttrain-rmse:0.12232\tvalidation-rmse:0.20870\n",
      "[65]\ttrain-rmse:0.12253\tvalidation-rmse:0.20905\n",
      "[66]\ttrain-rmse:0.12272\tvalidation-rmse:0.20945\n",
      "[67]\ttrain-rmse:0.12313\tvalidation-rmse:0.20982\n",
      "[68]\ttrain-rmse:0.12340\tvalidation-rmse:0.21014\n",
      "[69]\ttrain-rmse:0.12373\tvalidation-rmse:0.21047\n",
      "[70]\ttrain-rmse:0.12406\tvalidation-rmse:0.21076\n",
      "[71]\ttrain-rmse:0.12442\tvalidation-rmse:0.21110\n",
      "[72]\ttrain-rmse:0.12475\tvalidation-rmse:0.21139\n",
      "[73]\ttrain-rmse:0.12509\tvalidation-rmse:0.21165\n",
      "[74]\ttrain-rmse:0.12534\tvalidation-rmse:0.21198\n",
      "[75]\ttrain-rmse:0.12559\tvalidation-rmse:0.21228\n",
      "[76]\ttrain-rmse:0.12585\tvalidation-rmse:0.21257\n",
      "[77]\ttrain-rmse:0.12613\tvalidation-rmse:0.21288\n",
      "[78]\ttrain-rmse:0.12648\tvalidation-rmse:0.21316\n",
      "[79]\ttrain-rmse:0.12669\tvalidation-rmse:0.21348\n",
      "[80]\ttrain-rmse:0.12689\tvalidation-rmse:0.21380\n",
      "[81]\ttrain-rmse:0.12718\tvalidation-rmse:0.21403\n"
     ]
    }
   ],
   "source": [
    "val_matrix = xgb.DMatrix(X_test, label=y_test)\n",
    "data_matrix = xgb.DMatrix(X_train, label=y_train)\n",
    "watchlist = [(data_matrix, 'train'), (val_matrix, 'validation')]\n",
    "\n",
    "def angle_based_obj(preds, dtrain):\n",
    "    # Get the true labels and predictions as NumPy arrays\n",
    "    y_true = dtrain.get_label()\n",
    "    y_pred = preds\n",
    "\n",
    "    # Reshape y_true and y_pred to have the same shape\n",
    "    y_true = y_true.reshape(-1, 3)\n",
    "    y_pred = y_pred.reshape(-1, 3)\n",
    "\n",
    "    # Normalize y_true and y_pred\n",
    "    y_true_norm = np.linalg.norm(y_true, axis=1, keepdims=True)\n",
    "    y_pred_norm = np.linalg.norm(y_pred, axis=1, keepdims=True)\n",
    "    y_true_normalized = y_true / y_true_norm\n",
    "    y_pred_normalized = y_pred / y_pred_norm\n",
    "\n",
    "    # Calculate cosine similarity\n",
    "    cos_similarity = np.sum(y_true_normalized * y_pred_normalized, axis=1)\n",
    "\n",
    "    # Calculate gradients (partial derivatives of the cosine similarity w.r.t. y_pred)\n",
    "    grad = -y_true_normalized + y_pred_normalized * cos_similarity[:, np.newaxis]\n",
    "\n",
    "    # Calculate Hessians (second partial derivatives of the cosine similarity w.r.t. y_pred)\n",
    "    # For simplicity, we use a constant Hessian (diagonal matrix) for numerical stability\n",
    "    hess = np.ones_like(grad)\n",
    "\n",
    "    # Reshape gradients and Hessians to the original shape\n",
    "    grad = grad.reshape(-1)\n",
    "    hess = hess.reshape(-1)\n",
    "\n",
    "    return grad, hess\n",
    "\n",
    "params = {\n",
    "    'objective': 'reg:squarederror', # or 'reg:linear' for older versions of XGBoost\n",
    "    'eval_metric': 'rmse',\n",
    "    'eta': 0.1,\n",
    "    'max_depth': 6,\n",
    "}\n",
    "\n",
    "model = xgb.train(\n",
    "    params,\n",
    "    data_matrix,\n",
    "    obj=angle_based_obj,\n",
    "    num_boost_round=1000,\n",
    "    evals=watchlist,\n",
    "    verbose_eval=True, # or set an integer, e.g., 10, to print progress every 10 rounds\n",
    "    early_stopping_rounds=50 # stops training if there's no improvement in validation RMSE for 50 rounds\n",
    ")\n",
    "\n"
   ]
  },
  {
   "cell_type": "code",
   "execution_count": 92,
   "id": "67ca2e6c-cddb-4e5e-9e73-244c9274f445",
   "metadata": {
    "tags": []
   },
   "outputs": [],
   "source": [
    "y_val_pred = model.predict(val_matrix)\n",
    "mae = mean_absolute_error(y_test, y_val_pred)\n"
   ]
  },
  {
   "cell_type": "code",
   "execution_count": 93,
   "id": "806243d7-179f-4192-b557-2af0af3e232f",
   "metadata": {
    "tags": []
   },
   "outputs": [
    {
     "data": {
      "text/plain": [
       "0.17774018094152344"
      ]
     },
     "execution_count": 93,
     "metadata": {},
     "output_type": "execute_result"
    }
   ],
   "source": [
    "mae"
   ]
  },
  {
   "cell_type": "code",
   "execution_count": 94,
   "id": "fc90b197-39a7-4d2e-8519-35164baec1a4",
   "metadata": {
    "tags": []
   },
   "outputs": [
    {
     "data": {
      "text/plain": [
       "15.450799066353264"
      ]
     },
     "execution_count": 94,
     "metadata": {},
     "output_type": "execute_result"
    }
   ],
   "source": [
    "anglsp = []\n",
    "for i in range(y_val_pred.shape[0]):\n",
    "    ang = abs(angle_between(y_test[i], y_val_pred[i]))\n",
    "    anglsp.append(ang)\n",
    "np.degrees(np.mean(anglsp))"
   ]
  },
  {
   "cell_type": "code",
   "execution_count": 89,
   "id": "ffdcffb6-3ba8-421b-8b7d-821b3ce116b3",
   "metadata": {
    "tags": []
   },
   "outputs": [
    {
     "data": {
      "text/plain": [
       "(array([[-0.4739486 ,  0.87950295, -0.04298085],\n",
       "        [-0.49621049,  0.75090951,  0.43578684],\n",
       "        [-0.61952734,  0.76525116, -0.17486152],\n",
       "        ...,\n",
       "        [-0.33728132,  0.92647618,  0.16698286],\n",
       "        [-0.48166212,  0.87163234,  0.09087716],\n",
       "        [-0.17468521,  0.95221031,  0.25056064]]),\n",
       " array([[-0.35340837,  0.90979034,  0.14736252],\n",
       "        [-0.4529434 ,  0.81976694,  0.15737964],\n",
       "        [-0.42141643,  0.8380148 ,  0.05785855],\n",
       "        ...,\n",
       "        [-0.4008493 ,  0.83032745,  0.26063386],\n",
       "        [-0.4999473 ,  0.8571197 ,  0.16071619],\n",
       "        [-0.2610349 ,  0.7989887 ,  0.24623647]], dtype=float32))"
      ]
     },
     "execution_count": 89,
     "metadata": {},
     "output_type": "execute_result"
    }
   ],
   "source": [
    "y_test, y_val_pred"
   ]
  }
 ],
 "metadata": {
  "kernelspec": {
   "display_name": "Python 3 (ipykernel)",
   "language": "python",
   "name": "python3"
  },
  "language_info": {
   "codemirror_mode": {
    "name": "ipython",
    "version": 3
   },
   "file_extension": ".py",
   "mimetype": "text/x-python",
   "name": "python",
   "nbconvert_exporter": "python",
   "pygments_lexer": "ipython3",
   "version": "3.9.0"
  }
 },
 "nbformat": 4,
 "nbformat_minor": 5
}
